{
 "cells": [
  {
   "cell_type": "markdown",
   "metadata": {},
   "source": [
    "# 此脚本用于计算相对误差"
   ]
  },
  {
   "cell_type": "code",
   "execution_count": null,
   "metadata": {},
   "outputs": [],
   "source": [
    "\n",
    "import numpy as np\n",
    "\n",
    "def relative_error(a,b):\n",
    "    return np.abs(a-b)/np.abs(a)\n",
    "\n",
    "gt_71 = np.array([2158.7249,0.5174077])\n",
    "gt_75 = np.array([2134.702,1.1729892])"
   ]
  },
  {
   "cell_type": "markdown",
   "metadata": {},
   "source": [
    "第二种结果计算误差分析"
   ]
  },
  {
   "cell_type": "code",
   "execution_count": 5,
   "metadata": {},
   "outputs": [
    {
     "name": "stdout",
     "output_type": "stream",
     "text": [
      "Relative error for 71, scale and shift: [ 0.85713418 36.35758088]\n",
      "Relative error for 75, scale and shift: [ 0.83337581 12.86687959]\n"
     ]
    }
   ],
   "source": [
    "results_71 = np.array([308.408,19.3291])\n",
    "results_75 = np.array([355.693,16.2657])\n",
    "print(f\"Relative error for 71, scale and shift: {relative_error(gt_71,results_71)}\")\n",
    "print(f\"Relative error for 75, scale and shift: {relative_error(gt_75,results_75)}\")"
   ]
  },
  {
   "cell_type": "markdown",
   "metadata": {},
   "source": [
    "第四种计算结果相对误差分析"
   ]
  },
  {
   "cell_type": "code",
   "execution_count": 6,
   "metadata": {},
   "outputs": [
    {
     "name": "stdout",
     "output_type": "stream",
     "text": [
      "Relative error for 71, scale and shift [ 0.33087352 58.136181  ]\n",
      "Relative error for 75, scale and shift [2.33982636e-01 1.39306126e+03]\n"
     ]
    }
   ],
   "source": [
    "results_71 = np.array([1444.46,-29.5627])\n",
    "results_75 = np.array([1662.31 -27.0912])\n",
    "print(f\"Relative error for 71, scale and shift {relative_error(gt_71,results_71)}\")\n",
    "print(f\"Relative error for 75, scale and shift {relative_error(gt_75,results_75)}\")"
   ]
  }
 ],
 "metadata": {
  "kernelspec": {
   "display_name": "Python 3",
   "language": "python",
   "name": "python3"
  },
  "language_info": {
   "codemirror_mode": {
    "name": "ipython",
    "version": 3
   },
   "file_extension": ".py",
   "mimetype": "text/x-python",
   "name": "python",
   "nbconvert_exporter": "python",
   "pygments_lexer": "ipython3",
   "version": "3.10.12"
  }
 },
 "nbformat": 4,
 "nbformat_minor": 2
}
